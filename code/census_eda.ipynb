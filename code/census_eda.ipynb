{
 "cells": [
  {
   "cell_type": "markdown",
   "metadata": {},
   "source": [
    "# LA Census EDA\n",
    "\n",
    "This notebook is used to examine LA area census data form 2010"
   ]
  },
  {
   "cell_type": "code",
   "execution_count": 1,
   "metadata": {},
   "outputs": [],
   "source": [
    "import pandas as pd\n",
    "import matplotlib.pyplot as plt\n",
    "import numpy as np"
   ]
  },
  {
   "cell_type": "code",
   "execution_count": 4,
   "metadata": {},
   "outputs": [
    {
     "name": "stdout",
     "output_type": "stream",
     "text": [
      "(97, 13)\n"
     ]
    },
    {
     "data": {
      "text/html": [
       "<div>\n",
       "<style scoped>\n",
       "    .dataframe tbody tr th:only-of-type {\n",
       "        vertical-align: middle;\n",
       "    }\n",
       "\n",
       "    .dataframe tbody tr th {\n",
       "        vertical-align: top;\n",
       "    }\n",
       "\n",
       "    .dataframe thead th {\n",
       "        text-align: right;\n",
       "    }\n",
       "</style>\n",
       "<table border=\"1\" class=\"dataframe\">\n",
       "  <thead>\n",
       "    <tr style=\"text-align: right;\">\n",
       "      <th></th>\n",
       "      <th>NC_Name</th>\n",
       "      <th>Total Population</th>\n",
       "      <th>White_pop</th>\n",
       "      <th>Black_pop</th>\n",
       "      <th>Ameri_es_pop</th>\n",
       "      <th>Asian_pop</th>\n",
       "      <th>Hawn_pi_pop</th>\n",
       "      <th>Hispanic_pop</th>\n",
       "      <th>Other_pop</th>\n",
       "      <th>Multi_pop</th>\n",
       "      <th>In_Poverty</th>\n",
       "      <th>Owner_occ</th>\n",
       "      <th>Renter_occ</th>\n",
       "    </tr>\n",
       "  </thead>\n",
       "  <tbody>\n",
       "    <tr>\n",
       "      <th>0</th>\n",
       "      <td>ARLETA NC</td>\n",
       "      <td>34932.84</td>\n",
       "      <td>2882.67</td>\n",
       "      <td>409.67</td>\n",
       "      <td>67.64</td>\n",
       "      <td>4061.31</td>\n",
       "      <td>34.96</td>\n",
       "      <td>NaN</td>\n",
       "      <td>37.58</td>\n",
       "      <td>245.05</td>\n",
       "      <td>34700.56</td>\n",
       "      <td>5590.27</td>\n",
       "      <td>2159.94</td>\n",
       "    </tr>\n",
       "    <tr>\n",
       "      <th>1</th>\n",
       "      <td>ARROYO SECO NC</td>\n",
       "      <td>21711.47</td>\n",
       "      <td>4640.35</td>\n",
       "      <td>782.76</td>\n",
       "      <td>89.51</td>\n",
       "      <td>3215.37</td>\n",
       "      <td>25.38</td>\n",
       "      <td>NaN</td>\n",
       "      <td>66.98</td>\n",
       "      <td>263.12</td>\n",
       "      <td>21582.85</td>\n",
       "      <td>4138.14</td>\n",
       "      <td>3235.61</td>\n",
       "    </tr>\n",
       "    <tr>\n",
       "      <th>2</th>\n",
       "      <td>ATWATER VILLAGE NC</td>\n",
       "      <td>11385.40</td>\n",
       "      <td>3450.70</td>\n",
       "      <td>127.80</td>\n",
       "      <td>0.15</td>\n",
       "      <td>2379.08</td>\n",
       "      <td>71.85</td>\n",
       "      <td>NaN</td>\n",
       "      <td>0.37</td>\n",
       "      <td>252.76</td>\n",
       "      <td>11345.53</td>\n",
       "      <td>1877.30</td>\n",
       "      <td>2902.89</td>\n",
       "    </tr>\n",
       "    <tr>\n",
       "      <th>3</th>\n",
       "      <td>BEL AIR-BEVERLY CREST NC</td>\n",
       "      <td>26789.14</td>\n",
       "      <td>22024.61</td>\n",
       "      <td>349.63</td>\n",
       "      <td>0.02</td>\n",
       "      <td>1787.79</td>\n",
       "      <td>0.01</td>\n",
       "      <td>NaN</td>\n",
       "      <td>156.92</td>\n",
       "      <td>946.28</td>\n",
       "      <td>26623.97</td>\n",
       "      <td>8939.21</td>\n",
       "      <td>1943.18</td>\n",
       "    </tr>\n",
       "    <tr>\n",
       "      <th>4</th>\n",
       "      <td>BOYLE HEIGHTS NC</td>\n",
       "      <td>81900.56</td>\n",
       "      <td>1562.20</td>\n",
       "      <td>640.97</td>\n",
       "      <td>63.63</td>\n",
       "      <td>2266.59</td>\n",
       "      <td>73.99</td>\n",
       "      <td>NaN</td>\n",
       "      <td>90.30</td>\n",
       "      <td>98.50</td>\n",
       "      <td>81144.31</td>\n",
       "      <td>4743.28</td>\n",
       "      <td>16001.77</td>\n",
       "    </tr>\n",
       "  </tbody>\n",
       "</table>\n",
       "</div>"
      ],
      "text/plain": [
       "                    NC_Name  Total Population  White_pop  Black_pop  \\\n",
       "0                 ARLETA NC          34932.84    2882.67     409.67   \n",
       "1            ARROYO SECO NC          21711.47    4640.35     782.76   \n",
       "2        ATWATER VILLAGE NC          11385.40    3450.70     127.80   \n",
       "3  BEL AIR-BEVERLY CREST NC          26789.14   22024.61     349.63   \n",
       "4          BOYLE HEIGHTS NC          81900.56    1562.20     640.97   \n",
       "\n",
       "   Ameri_es_pop  Asian_pop  Hawn_pi_pop  Hispanic_pop  Other_pop  Multi_pop  \\\n",
       "0         67.64    4061.31        34.96           NaN      37.58     245.05   \n",
       "1         89.51    3215.37        25.38           NaN      66.98     263.12   \n",
       "2          0.15    2379.08        71.85           NaN       0.37     252.76   \n",
       "3          0.02    1787.79         0.01           NaN     156.92     946.28   \n",
       "4         63.63    2266.59        73.99           NaN      90.30      98.50   \n",
       "\n",
       "   In_Poverty  Owner_occ  Renter_occ  \n",
       "0    34700.56    5590.27     2159.94  \n",
       "1    21582.85    4138.14     3235.61  \n",
       "2    11345.53    1877.30     2902.89  \n",
       "3    26623.97    8939.21     1943.18  \n",
       "4    81144.31    4743.28    16001.77  "
      ]
     },
     "execution_count": 4,
     "metadata": {},
     "output_type": "execute_result"
    }
   ],
   "source": [
    "census = pd.read_csv('../datasets/la_census_2010.csv')\n",
    "print(census.shape)\n",
    "census.head()"
   ]
  },
  {
   "cell_type": "code",
   "execution_count": 8,
   "metadata": {},
   "outputs": [
    {
     "name": "stderr",
     "output_type": "stream",
     "text": [
      "/Users/Sam/opt/anaconda3/lib/python3.7/site-packages/ipykernel_launcher.py:2: SettingWithCopyWarning: \n",
      "A value is trying to be set on a copy of a slice from a DataFrame\n",
      "\n",
      "See the caveats in the documentation: https://pandas.pydata.org/pandas-docs/stable/user_guide/indexing.html#returning-a-view-versus-a-copy\n",
      "  \n"
     ]
    }
   ],
   "source": [
    "for i in census.index:\n",
    "    census['NC_Name'][i] = census['NC_Name'][i][:-3].lower()"
   ]
  },
  {
   "cell_type": "code",
   "execution_count": null,
   "metadata": {},
   "outputs": [],
   "source": []
  }
 ],
 "metadata": {
  "kernelspec": {
   "display_name": "Python 3",
   "language": "python",
   "name": "python3"
  },
  "language_info": {
   "codemirror_mode": {
    "name": "ipython",
    "version": 3
   },
   "file_extension": ".py",
   "mimetype": "text/x-python",
   "name": "python",
   "nbconvert_exporter": "python",
   "pygments_lexer": "ipython3",
   "version": "3.7.6"
  }
 },
 "nbformat": 4,
 "nbformat_minor": 4
}
